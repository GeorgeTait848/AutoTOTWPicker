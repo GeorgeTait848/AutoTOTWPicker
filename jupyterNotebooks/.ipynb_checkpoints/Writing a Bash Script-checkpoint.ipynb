{
 "cells": [
  {
   "cell_type": "markdown",
   "id": "a04e5316",
   "metadata": {},
   "source": [
    "# Writing a Bash Script\n",
    "\n"
   ]
  },
  {
   "cell_type": "markdown",
   "id": "173f02f3",
   "metadata": {},
   "source": [
    "## Creating the script\n",
    "\n",
    "This can be done in the terminal using the touch command \n",
    "\n",
    "    touch myscript\n",
    "    \n",
    "\n",
    "However, this simply creates a file called my script. To make it a bash script, the first line on the script must be:\n",
    "\n",
    "    #!/usr/bin/env bash\n",
    "    \n",
    "The rest of the script will now be in bash. \n",
    "\n",
    "\n",
    "\n",
    "\n",
    "    "
   ]
  },
  {
   "cell_type": "markdown",
   "id": "0706d50f",
   "metadata": {},
   "source": [
    "## Making the script executable\n",
    "\n",
    "Simply, in the terminal type: \n",
    "\n",
    "\n",
    "    chmod +x myscript\n",
    "    \n",
    "Of course, substitute myscript for whatever name your script has.\n",
    "\n",
    "Without this command, you will receive an error and the script will not be run. "
   ]
  },
  {
   "cell_type": "markdown",
   "id": "d0930383",
   "metadata": {},
   "source": [
    "## Commands\n",
    "\n",
    "bash scripts will contain regular terminal commands such as `touch`, `pip3 freeze`, etc. However, you can give them variables. e.g a variable called NAME:\n",
    "\n",
    "    NAME=\"George\"\n",
    "    \n",
    "note, there are no spaces between either the variable's name, the assignment operator or the variable value. \n",
    "\n"
   ]
  },
  {
   "cell_type": "markdown",
   "id": "29e8a645",
   "metadata": {},
   "source": [
    "## Strings\n",
    "\n",
    "Strings in bash can either use `''` or `\"\"`. \n",
    "\n",
    "Their are subtle differences. the main one i have come across so far is that the double ticks can substitute variable values into string whereas single ticks cant. "
   ]
  },
  {
   "cell_type": "markdown",
   "id": "d7123179",
   "metadata": {},
   "source": [
    "## Inputs \n",
    "\n",
    "The values of a variable can be given as an input to the script. The syntax is as follows:\n",
    "\n",
    "\n",
    "    \n",
    "    \n",
    "    \n",
    "\n",
    "  \n",
    "  \n",
    "  \n",
    "    \n",
    "\n",
    "    \n",
    "    \n",
    "    \n",
    "\n",
    "\n"
   ]
  },
  {
   "cell_type": "code",
   "execution_count": 8,
   "id": "ae5c49c1",
   "metadata": {},
   "outputs": [],
   "source": [
    "!NAME=${1}"
   ]
  },
  {
   "cell_type": "markdown",
   "id": "66fac76c",
   "metadata": {},
   "source": [
    "When the script is run, the first argument that the user puts into the command, will be substituted into the value of `NAME`. \n",
    "\n",
    "You can put multiple inputs into a bash script, e.g: \n",
    "\n",
    "Note, the `!` is only to tell the jupyter kernel that the line is in bash and not python, when writing these variables in a bash script, the `!` would be omitted. "
   ]
  },
  {
   "cell_type": "code",
   "execution_count": 9,
   "id": "1f3e1f36",
   "metadata": {},
   "outputs": [],
   "source": [
    "!NAME=${1}\n",
    "!AGE=${2}"
   ]
  },
  {
   "cell_type": "markdown",
   "id": "692a61d4",
   "metadata": {},
   "source": [
    "## Further Input options\n",
    "\n",
    "You can decide what happens if no input is given where it should be. \n",
    "\n",
    "The first option is throwing an error. This is done using the `?` as such: \n",
    "\n"
   ]
  },
  {
   "cell_type": "code",
   "execution_count": 10,
   "id": "427b08f0",
   "metadata": {},
   "outputs": [
    {
     "name": "stdout",
     "output_type": "stream",
     "text": [
      "zsh:1: 1: Error: No Name given\r\n"
     ]
    }
   ],
   "source": [
    "!NAME=${1?Error: No Name given}"
   ]
  },
  {
   "cell_type": "markdown",
   "id": "50b3726f",
   "metadata": {},
   "source": [
    "Where the text that occurs from running the script is the same text that follows the question mark. Note that a number is alos printed, this is the line of the script on which the error occurs."
   ]
  },
  {
   "cell_type": "markdown",
   "id": "b3c42b11",
   "metadata": {},
   "source": [
    "Secondly, you can but a value to be assigned to your variable if there is no input using `:-` as such:\n",
    "\n"
   ]
  },
  {
   "cell_type": "code",
   "execution_count": 1,
   "id": "bf36a458",
   "metadata": {},
   "outputs": [],
   "source": [
    "!NAME=${1:-Some Name}"
   ]
  },
  {
   "cell_type": "markdown",
   "id": "c4afbdd2",
   "metadata": {},
   "source": [
    "## Running the script \n",
    "\n",
    "Simply, in the terminal, type the command: \n",
    "\n",
    "    ./myscript\n",
    "    \n",
    "and all the commands of the script will be executed in the order they appear on the script. "
   ]
  },
  {
   "cell_type": "markdown",
   "id": "ff022bed",
   "metadata": {},
   "source": [
    "## Sub shells \n",
    "\n",
    "\n",
    "if you run the script using the command \n",
    "\n",
    "    ./myscript\n",
    "    \n",
    "it will run the script in a sub shell, so once the script has been executed, it will return you to your current directory. \n",
    "\n",
    "e.g: if your script has `cd` commands in it, these will be undone once the script has finished executing. \n",
    "\n",
    "to run your script in your current shell use \n",
    "\n",
    "    source myscript\n",
    "    \n",
    "\n"
   ]
  }
 ],
 "metadata": {
  "kernelspec": {
   "display_name": "Python 3 (ipykernel)",
   "language": "python",
   "name": "python3"
  },
  "language_info": {
   "codemirror_mode": {
    "name": "ipython",
    "version": 3
   },
   "file_extension": ".py",
   "mimetype": "text/x-python",
   "name": "python",
   "nbconvert_exporter": "python",
   "pygments_lexer": "ipython3",
   "version": "3.9.6"
  }
 },
 "nbformat": 4,
 "nbformat_minor": 5
}
