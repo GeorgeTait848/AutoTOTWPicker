{
 "cells": [
  {
   "cell_type": "markdown",
   "id": "ba163ad0",
   "metadata": {},
   "source": [
    "# Github PRs\n"
   ]
  },
  {
   "cell_type": "markdown",
   "id": "16ec44a7",
   "metadata": {},
   "source": [
    "A pull request is the request to merge branches or forks in a repository to the master branch. "
   ]
  },
  {
   "cell_type": "markdown",
   "id": "b7cfc02d",
   "metadata": {},
   "source": [
    "## Intro\n",
    "\n",
    "Firstly will be information on how Pull requests work and why you do them, then there will be information on their execution via the command line. "
   ]
  },
  {
   "cell_type": "markdown",
   "id": "145b4670",
   "metadata": {},
   "source": [
    "## Branching \n",
    "\n",
    "To branch a repository is essentially to have two separate versions of the same repository, often used for experimentation with different solutions to a task. e.g: i wanted to solve a problem using both recursion and a for loop, but have one solution on a different version to the other, without the two interferring. \n",
    "\n",
    "To do this, i would make two new branches. One called recusive solution and one call loop solution. I would then, when ive decided which solution is better of the two, merge that branch with the master branch. \n",
    "\n",
    "Important note, branching is done on the same account as the repository is currently in. This is a subtle but important bit of information. "
   ]
  },
  {
   "cell_type": "markdown",
   "id": "63c32331",
   "metadata": {},
   "source": [
    "## Forking \n",
    "\n",
    "Forking is used when a separate contributor wants to make changes to the code but without currently changing the source code. \n",
    "\n",
    "Essentially, a separate collaborator will copy the entire repository to their github account, then can make changes from there. \n",
    "\n",
    "Then, when ready the collaborator can make a pull request to merge their version with the source code. \n",
    "The \"owner\" of the main branch of the source code will then decide whether to allow the merge or not. \n",
    "\n",
    "Forking copies the entire repository and its entire history of commits. "
   ]
  },
  {
   "cell_type": "markdown",
   "id": "a63309b2",
   "metadata": {},
   "source": [
    "## Branching with the command line \n",
    "\n",
    "To branch a repository from the command line, simply type:\n",
    "\n",
    "    git branch name\n",
    "    \n",
    "where name refers to the name you want to call the branch. However, it will not switch from the master branch to the new branch. \n",
    "\n",
    "To switch branches, use: \n",
    "\n",
    "    git checkout name \n",
    "    \n",
    "To view all branches, use: \n",
    "\n",
    "    git branch -a\n",
    "    \n",
    "    \n",
    "You can then commit to this branch as you would the master branch. The master branch will not be affected by this branch. \n",
    "\n",
    "\n",
    "### A shortcut\n",
    "\n",
    "To simultaneously create and switch to a new branch, use: \n",
    "\n",
    "    git checkout -b name \n",
    "\n",
    "\n",
    "\n",
    "    \n",
    "\n",
    "    \n",
    "\n",
    "\n",
    "\n"
   ]
  },
  {
   "cell_type": "markdown",
   "id": "dbe79804",
   "metadata": {},
   "source": [
    "## Deleting a branch\n",
    "\n",
    "\n",
    "\n",
    "\n",
    "You may want to delete a branch when you find this particular idea does not work. To delete a **NOT FULLY MERGED** branch, use:\n",
    "\n",
    "    git branch -D name\n",
    "    \n",
    "To delete a fully merged branch, you can use lowercase d: \n",
    "\n",
    "    git branch -d name\n",
    "    \n",
    "\n",
    "    \n"
   ]
  },
  {
   "cell_type": "markdown",
   "id": "d4ff5a7b",
   "metadata": {},
   "source": [
    " ## Merging branches \n",
    " \n",
    "To merge a branch, you must be in the branch that is having something merged into it. e.g: merging `master` into `name` would be: \n",
    "\n",
    "    git checkout master \n",
    "    git merge name\n",
    "    \n",
    "This is important as if you merge name with master from name, master branch will be merged to name. "
   ]
  },
  {
   "cell_type": "markdown",
   "id": "b3459573",
   "metadata": {},
   "source": [
    "## Merge conflicts\n",
    "\n",
    "These occur when two merging branches have different changes to the same lines of code. \n",
    "\n",
    "If you try to merge two conflicting branches, it will throw a conflict error. \n",
    "\n",
    "In this event, git will show you in a text editor the conflicting line(s) of code and you can manually choose the preferred solution. \n",
    "\n",
    "There may be more complicated conflicts but this is the basic. "
   ]
  },
  {
   "cell_type": "markdown",
   "id": "1b4977c2",
   "metadata": {},
   "source": [
    "## Forking a repository. \n",
    "\n",
    "You cannot fork a repository from the command line with a basic Git installation. You must install the GitHub command line interface (GitHub CLI). \n",
    "\n",
    "Doing this from the app is simple, just click the fork button in the top right hand corner of the repository. "
   ]
  },
  {
   "cell_type": "markdown",
   "id": "3e3cd948",
   "metadata": {},
   "source": [
    "## Pull Requests once forked. \n",
    "\n",
    "This, also cannot be done via the regular command line but with GH CLI. Notes will be made on github CLI at a later time but for now, do it through the web app. \n",
    "\n",
    "Once youve made commits, branches etc to the version on your github account, you can make a pull request through the web app by pressing the `new pull request` button. And you simply add a title and text body to the PR and it will be sent to be approved or denied by someone who has permission to edit the main repository (known as the base fork repository). "
   ]
  }
 ],
 "metadata": {
  "kernelspec": {
   "display_name": "Python 3 (ipykernel)",
   "language": "python",
   "name": "python3"
  },
  "language_info": {
   "codemirror_mode": {
    "name": "ipython",
    "version": 3
   },
   "file_extension": ".py",
   "mimetype": "text/x-python",
   "name": "python",
   "nbconvert_exporter": "python",
   "pygments_lexer": "ipython3",
   "version": "3.9.6"
  }
 },
 "nbformat": 4,
 "nbformat_minor": 5
}
