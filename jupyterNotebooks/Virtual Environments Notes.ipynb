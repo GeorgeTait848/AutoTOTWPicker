{
 "cells": [
  {
   "cell_type": "markdown",
   "id": "5e50dea1",
   "metadata": {},
   "source": [
    "# virtualenv \n",
    "\n"
   ]
  },
  {
   "cell_type": "markdown",
   "id": "ec6707b7",
   "metadata": {},
   "source": [
    "## Prerequisite\n",
    "\n",
    "\n",
    "Be familiar with pip package manager. See my jupyter notebook on it or watch [This Youtube Video on pip](https://youtu.be/U2ZN104hIcc)\n",
    "\n",
    "\n"
   ]
  },
  {
   "cell_type": "markdown",
   "id": "9e18dc20",
   "metadata": {},
   "source": [
    "## Why use virtualenv?\n",
    "\n",
    "Useful for when different projects require different versions of the same dependancies/packages, and having the latest version of a certain package might cause a project to fail. \n",
    "\n",
    "Virtual Environments allow you to create an environment where you can locally install ONLY the required packages so that these clashes dont occur."
   ]
  },
  {
   "cell_type": "markdown",
   "id": "118cb767",
   "metadata": {},
   "source": [
    "## Installation\n",
    "\n",
    "Open terminal and enter the following command\n",
    "\n",
    "    pip3 install virtualenv"
   ]
  },
  {
   "cell_type": "markdown",
   "id": "e031620f",
   "metadata": {},
   "source": [
    "## Storing your virtual environments\n",
    "\n",
    "\n",
    "recommened to make a directory called Environments\n",
    "\n",
    "    mkdir Environments\n",
    "    \n"
   ]
  },
  {
   "cell_type": "markdown",
   "id": "d2f3a5f9",
   "metadata": {},
   "source": [
    "## Creating a virtual environment\n",
    "\n",
    "done using the following command:\n",
    "\n",
    "\n",
    "    virtualenv environmentname_env\n",
    "    \n",
    "Note that the `environmentname_env` can be edited to a name relating to that environment but the `_env` must remain at the end of the name\n",
    "\n",
    "\n",
    "When you create this new environment it will automatically install `setuptools` and `pip` into this environment. You will see the following in the command line to confirm this:\n",
    "\n",
    "\n",
    "    New python executable in environmentname_env/bin/python\n",
    "    installing setuptools, pip...done\n",
    "\n",
    "\n"
   ]
  },
  {
   "cell_type": "markdown",
   "id": "87f5f58b",
   "metadata": {},
   "source": [
    "## Running a virtual environment\n",
    "\n",
    "\n",
    "The first use case of `virtualenv` for me will be an environment which has the packages necessary for jupyter notebooks. Thus i will name this environment `myjupyternb_env`. \n",
    "\n",
    "Thus to create and activate this environment i will first use the command from the previous section:\n",
    "\n",
    "    virtualenv myjupyternb_env\n",
    "    \n",
    "    \n",
    "then do the following command:\n",
    "\n",
    "    source myjupyternb_env/bin/activate\n",
    "    \n",
    "    \n",
    "and now you will be in the `myjupyternb_env` environment. You will see that in terminal, above the line in which you enter commands there will be the following line: \n",
    "\n",
    "    (myjupyternb_env)\n",
    "    \n",
    "    \n",
    "this will always appear if you are in this environment. Even if you clear screen in terminal\n",
    "    \n"
   ]
  },
  {
   "cell_type": "markdown",
   "id": "ea0149f9",
   "metadata": {},
   "source": [
    "## Path to packages\n",
    "\n",
    "\n",
    "While in your environment, you can write the following command:\n",
    "\n",
    "\n",
    "    which python\n",
    "    \n",
    "or: \n",
    "\n",
    "    which python3\n",
    "    \n",
    "and it will return a path that goes through this virtual environment as opposed to the globally installed python. \n",
    "\n",
    "\n",
    "for the use case of jupyter notebooks, my path to this environment would be: \n",
    "\n",
    "    /Users/George\\ Tait/Documents/Environments/myjupyternb_env\n",
    "    \n",
    "thus the path to python in this virtual environment would be: \n",
    "\n",
    "     /Users/George\\ Tait/Documents/Environments/myjupyternb_env/bin/python\n",
    "     \n",
    " Whereas if i was to do the `which python` command while **NOT** in a virtual environment, it would return the following: \n",
    " \n",
    " \n",
    "     /Library/Frameworks/Python.framework/Versions/3.9/bin/python\n",
    "     \n",
    " Note: this output is dependant on where python is installed in the computer and im not familiar enough with installation to know if there are any other possible locations for python installation\n",
    " \n",
    "\n",
    "\n",
    "\n",
    "    "
   ]
  },
  {
   "cell_type": "markdown",
   "id": "c607bb9f",
   "metadata": {},
   "source": [
    "## Packages within your environment\n",
    "\n",
    "\n",
    "before any further installation. if you run `pip3 list` in your environment. the only two packages you have will be: \n",
    "\n",
    "    pip3 \n",
    "    setuptools\n",
    "    \n",
    "note that the return from this command will also list package version numbers, but since these will change over time I havent written them here. \n",
    "\n",
    "This will be regardless of your global python packages installed!\n",
    "\n",
    "\n",
    "\n"
   ]
  },
  {
   "cell_type": "markdown",
   "id": "479ad270",
   "metadata": {},
   "source": [
    "## pip freeze within a virtual environment\n",
    "\n",
    "\n",
    "although the global packages are not installed to your virtual environment. if you were to do the following command: \n",
    "\n",
    "\n",
    "    pip freeze > requirements.txt\n",
    "    \n",
    "it would store all the global packages onto the `requirements.txt` file. to resolve this, add the `--local` tack onto the end of the command as such:\n",
    "\n",
    "\n",
    "    pip freeze --local > requirements.txt\n",
    "    \n",
    "this will only save the local packages\n",
    "\n"
   ]
  },
  {
   "cell_type": "markdown",
   "id": "5986a2bd",
   "metadata": {},
   "source": [
    "## deactivating your virtual environment\n",
    "\n",
    "Simply type:\n",
    "\n",
    "    deactivate\n"
   ]
  },
  {
   "cell_type": "markdown",
   "id": "926b1172",
   "metadata": {},
   "source": [
    "## Removing a virtual environment\n",
    "\n",
    "(again for the use case of jupyter notebook env) Simply type the command:\n",
    "\n",
    "    rm -rf myjupyternb_env\n",
    "    \n",
    "consider the `-rf` tac. \n",
    "\n",
    "This is a combination of the `-r` and `-f` tac. In this case, their influence is not necessary to note. But more on them can be found [here](https://learn.akamai.com/en-us/webhelp/netstorage/netstorage-user-guide/GUID-BE143989-A94E-4AAC-86B3-0A5651D6C460.html)\n",
    "    \n"
   ]
  },
  {
   "cell_type": "markdown",
   "id": "244f980d",
   "metadata": {},
   "source": [
    "## specifying the version of python for a virtual environment\n",
    "\n",
    "\n",
    "when creating a virtual environment, add the `-p` tac, followed by the path to some desired python. \n",
    "\n",
    "\n",
    "for example, if i wished to use python 2.6 i would write: \n",
    "\n",
    "\n",
    "    virtualenv -p /usr/bin/python2.6\n",
    "    \n"
   ]
  },
  {
   "cell_type": "markdown",
   "id": "4a075f78",
   "metadata": {},
   "source": [
    "## Final note - project files \n",
    "\n",
    "\n",
    "Your virtual environments are used to store packages and dependancies for a project and its files. But it is not for the storage of such files!\n",
    "\n",
    "They are only used to separate out the dependancies and versions. "
   ]
  }
 ],
 "metadata": {
  "kernelspec": {
   "display_name": "Python 3 (ipykernel)",
   "language": "python",
   "name": "python3"
  },
  "language_info": {
   "codemirror_mode": {
    "name": "ipython",
    "version": 3
   },
   "file_extension": ".py",
   "mimetype": "text/x-python",
   "name": "python",
   "nbconvert_exporter": "python",
   "pygments_lexer": "ipython3",
   "version": "3.9.6"
  }
 },
 "nbformat": 4,
 "nbformat_minor": 5
}
