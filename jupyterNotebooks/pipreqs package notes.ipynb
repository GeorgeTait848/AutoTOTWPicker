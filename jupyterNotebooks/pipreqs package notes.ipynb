{
 "cells": [
  {
   "cell_type": "markdown",
   "id": "22ca639d",
   "metadata": {},
   "source": [
    "# pipreqs Package Notes"
   ]
  },
  {
   "cell_type": "markdown",
   "id": "3648c159",
   "metadata": {},
   "source": [
    "## Installation \n",
    "\n",
    "    pip3 install pipreqs\n",
    "    \n"
   ]
  },
  {
   "cell_type": "markdown",
   "id": "c57ebc8d",
   "metadata": {},
   "source": [
    "## Usage\n",
    "\n",
    "the main command is `pipreqs` which is followed by some option and then a pathname. i.e: \n",
    "\n",
    "\n",
    "    pipreqs someDirectory/\n",
    "\n",
    "This commmand has no options and the path is someDirectory\n",
    "\n",
    "This will scan any .py scripts in someDirectory and save all necessary packages to a requirements.txt file in that same directory. \n",
    "\n",
    "\n",
    "Options descriptions are printed by typing:\n",
    "\n",
    "    pipreqs --help\n",
    "    \n",
    "Into the command line.\n",
    "    \n",
    "    \n",
    "or can be found [here](https://pypi.org/project/pipreqs/) \n"
   ]
  },
  {
   "cell_type": "markdown",
   "id": "c4072833",
   "metadata": {},
   "source": [
    "### --savepath option\n",
    "\n",
    "you can change the name of the file which will store the package names using the `--savepath` option. e.g say i wanted to store the data in a file called packages.txt in a directory called miscellaneous, which is a daughter directory of my current directory. I would write:\n",
    "    \n",
    "    pipreqs --savepath miscellaneous/packages.txt\n",
    "    \n",
    "    \n",
    "However, if you wanted to scan scripts in a directory other than your current directory, you would add this onto the end of the command, e.g say i wanted to scan a directory named myapp, then save the packages.txt to miscellaneous. Assuming both the myapp and miscellaneous directories are both daughter directories of my current one, i would write: \n",
    "\n",
    "    pipreqs --savepath miscellaneous/packages.txt myapp/\n",
    "    \n",
    "note, order of paths is important \n",
    "\n",
    "- first path is the path in which the file will be stored\n",
    "- second path is the path to which the scripts should be located\n",
    "\n",
    "\n",
    "    \n",
    "\n",
    "\n",
    "\n",
    "    \n",
    "\n",
    "\n",
    "\n"
   ]
  },
  {
   "cell_type": "markdown",
   "id": "3feee949",
   "metadata": {},
   "source": [
    "### --print option\n",
    "\n",
    "this option prints the output rather than saving it to a file. syntax is the same as a regular option:\n",
    "\n",
    "    pipreqs --print\n",
    "    \n",
    "you may need to add a path if you want to scan something not in your current directory. "
   ]
  },
  {
   "cell_type": "markdown",
   "id": "6d95e987",
   "metadata": {},
   "source": [
    "## Important note\n",
    "\n",
    "\n",
    "This packages will only search python scripts for packages, as far as im aware. So you cant generate a requirements.txt file from a virtualenv. "
   ]
  }
 ],
 "metadata": {
  "kernelspec": {
   "display_name": "Python 3 (ipykernel)",
   "language": "python",
   "name": "python3"
  },
  "language_info": {
   "codemirror_mode": {
    "name": "ipython",
    "version": 3
   },
   "file_extension": ".py",
   "mimetype": "text/x-python",
   "name": "python",
   "nbconvert_exporter": "python",
   "pygments_lexer": "ipython3",
   "version": "3.9.6"
  }
 },
 "nbformat": 4,
 "nbformat_minor": 5
}
